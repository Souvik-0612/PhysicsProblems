{
 "cells": [
  {
   "cell_type": "markdown",
   "id": "06f39866",
   "metadata": {},
   "source": [
    "# <font color = 'red'>Problem</font>\n",
    "A block of mass $m$ is projected up along the surface of a plane inclined at angle $\\theta$. The initial speed is $v_0$, and the coefficients of static and kinetic friction are both equal to $\\mu$. The block reaches a highest point and then slides back down to the starting point.\n",
    "1. Show that for the block to in fact slide back down instead of remaining at rest at the highest point, $\\tan(\\theta)$ must be greater than $\\mu$.\n",
    "2. Assuming that $\\tan(\\theta)>\\mu$, find the total time(up and down) taken by the block and also compare it with the case if there is no friction.\n",
    "3. Assuming that $\\tan(\\theta)>\\mu$, show that for a given $\\theta$, the value of $\\mu$ that yeilds to *minimum total time* is given by $\\mu \\approx (0.397)\\tan(\\theta)$. Also notice that this minimum time turns out to be about the 90% of the time it would take if the plane were frictionless.\n",
    "![block](block.png)"
   ]
  },
  {
   "cell_type": "markdown",
   "id": "5f46ac4f",
   "metadata": {},
   "source": [
    "# <font color = 'green'>Solution</font>\n",
    "1. Iff $mg\\sin{\\theta}> f$ then the block will silde from the top. Now as the coefficient of kinetic friction is $\\mu$. So $f = \\mu mg \\cos{\\theta}$. Solve the first eqaution you will end up with $$\\tan{\\theta}>\\mu$$.\n",
    "2. If we give the initial velocity $v_0$ to the block time is taken to reach to the top is $t_u$.$$t_u = \\frac{v_0}{a_u}$$Where $a_u$ is $g\\sin{\\theta}+\\mu g \\cos{\\theta}$. The length travelled by the block is $l = v_0 t_u - a_u t_u^2/2$ (Using $s = ut+at^2/2$). Solving this $l = \\frac{v_0^2}{2a_u}$ Now time is taken to reach at bottom is $$t_d = \\sqrt{\\frac{2l}{a_d}}$$ $$\\implies t_d = \\frac{v_0}{\\sqrt{a_u a_d}}$$ Where $a_d = g\\sin{\\theta}-\\mu g \\sin{\\theta}$. So the total time $T_f = t_u+t_d$, $f$ subcript for friction. So total time is, $$T_f = v_0\\left({\\frac{1}{a_u}+\\frac{1}{\\sqrt{a_u a_d}}}\\right)$$ Substituting $a_u$ and $a_d$, $$T_f = \\frac{v_0}{g}\\left({\\frac{1}{\\sin{\\theta}+\\mu \\cos{\\theta}}+\\frac{1}{\\sqrt{\\sin^2{\\theta}-\\mu^2 \\cos^2{\\theta}}}}\\right)$$\n",
    "\n",
    "    If there is no friction then the total time will be $T_0 = \\frac{2v_0}{g\\sin{\\theta}}$. So we can write, \n",
    "    \n",
    "    $$T_f = \\frac{T_0}{2}\\left(\\frac{1}{1+\\mu \\cot{\\theta}}+\\frac{1}{\\sqrt{1-\\mu^2 \\cot^2{\\theta}}}\\right)$$Let $x = \\mu \\cot{\\theta}$,$$T_f = \\frac{T_0}{2}\\left(\\frac{1}{1+x}+\\frac{1}{\\sqrt{1-x^2}}\\right)$$Now interesting part comes out, $\\left(\\frac{1}{1+x}+\\frac{1}{\\sqrt{1-x^2}}\\right)$.\n",
    "    * If $\\left(\\frac{1}{1+x}+\\frac{1}{\\sqrt{1-x^2}}\\right) > 2$ i.e, $T_f > T_0$. It follows that $x>\\frac{1}{\\sqrt{2}}$\n",
    "    * If $x = \\frac{1}{\\sqrt{2}}$ then time taken in both cases will be same?\n",
    "    * If $x < \\frac{1}{\\sqrt{2}}$ then *there will less time in case of friction*?\n",
    "    \n",
    "    Note, $x = \\frac{\\mu}{\\tan{\\theta}}$ if $\\frac{\\mu}{\\tan{\\theta}} < \\frac{1}{\\sqrt{2}}$ then it contradics our assumption $\\tan{\\theta} > \\mu$. So No sliding will be there when the block is at the top. So last two cases are possible..\n",
    "  \n",
    "3. Now for a given $\\theta$, we have to find minimize $T_f$ so $\\frac{dT_f}{dx}=0$,$$\\frac{-1}{(1+x)^2}+\\frac{x}{(1-x^2)^{3/2}}=0$$ \n",
    "\n",
    "$$\\implies 2x^3-2x^2+3x -1 =0$$\n",
    "\n",
    "We have to find the root of the equation. We can use **Newton-Raphson method** to find it numerically. So $f(x) = 2x^3-2x^2+3x -1$ and $f'(x) = 6x^2-4x+3$. Taking care of **zero slope** and continuity of the function in the real number domain, I make a guess $x = 3$."
   ]
  },
  {
   "cell_type": "code",
   "execution_count": 1,
   "id": "3c016e3b",
   "metadata": {
    "ExecuteTime": {
     "end_time": "2023-01-03T05:23:02.773895Z",
     "start_time": "2023-01-03T05:23:02.760763Z"
    }
   },
   "outputs": [],
   "source": [
    "# NR Method Python code\n",
    "def NR(x, f, df, err):           # x  -> initial Guess\n",
    "    count = 0\n",
    "    while abs(f(x)) > err:       # f  -> function\n",
    "        x -= f(x)/df(x)          # df -> derivative of the function\n",
    "        count += 1               # err -> error\n",
    "    return x, count"
   ]
  },
  {
   "cell_type": "code",
   "execution_count": 2,
   "id": "86842be4",
   "metadata": {
    "ExecuteTime": {
     "end_time": "2023-01-03T05:23:02.895384Z",
     "start_time": "2023-01-03T05:23:02.777310Z"
    }
   },
   "outputs": [
    {
     "data": {
      "text/plain": [
       "(0.4000555228269637, 5)"
      ]
     },
     "execution_count": 2,
     "metadata": {},
     "output_type": "execute_result"
    }
   ],
   "source": [
    "#Initial guess = 3\n",
    "# error = 0.01\n",
    "NR(3, lambda x: 2*x**3 - 2*x**2 + 3*x - 1, lambda x: 6*x**2 - 4*x + 3, 0.01 )"
   ]
  },
  {
   "cell_type": "code",
   "execution_count": 3,
   "id": "7dfeeaeb",
   "metadata": {
    "ExecuteTime": {
     "end_time": "2023-01-03T05:23:02.990784Z",
     "start_time": "2023-01-03T05:23:02.898251Z"
    }
   },
   "outputs": [
    {
     "data": {
      "text/plain": [
       "(0.39661023384068556, 6)"
      ]
     },
     "execution_count": 3,
     "metadata": {},
     "output_type": "execute_result"
    }
   ],
   "source": [
    "#Initial guess = 3\n",
    "# error = 0.001\n",
    "NR(3, lambda x: 2*x**3 - 2*x**2 + 3*x - 1, lambda x: 6*x**2 - 4*x + 3, 0.001 )"
   ]
  },
  {
   "cell_type": "code",
   "execution_count": 4,
   "id": "69ab6118",
   "metadata": {
    "ExecuteTime": {
     "end_time": "2023-01-03T05:23:03.124373Z",
     "start_time": "2023-01-03T05:23:02.993796Z"
    }
   },
   "outputs": [
    {
     "data": {
      "text/plain": [
       "(0.39661023384068556, 6)"
      ]
     },
     "execution_count": 4,
     "metadata": {},
     "output_type": "execute_result"
    }
   ],
   "source": [
    "#Initial guess = 3\n",
    "# error = 0.00001\n",
    "NR(3, lambda x: 2*x**3 - 2*x**2 + 3*x - 1, lambda x: 6*x**2 - 4*x + 3, 0.00001 )"
   ]
  },
  {
   "cell_type": "markdown",
   "id": "381b645c",
   "metadata": {},
   "source": [
    "We can plot the function to verify that is $x = 0.3966$ real minima or not."
   ]
  },
  {
   "cell_type": "code",
   "execution_count": 5,
   "id": "34db8af5",
   "metadata": {
    "ExecuteTime": {
     "end_time": "2023-01-03T05:23:04.105920Z",
     "start_time": "2023-01-03T05:23:03.126934Z"
    }
   },
   "outputs": [],
   "source": [
    "import matplotlib.pyplot as plt\n",
    "import numpy as np\n",
    "from numpy import sin, cos, pi, sqrt, exp\n",
    "plt.style.use(['science', 'notebook', 'grid'])\n"
   ]
  },
  {
   "cell_type": "code",
   "execution_count": 6,
   "id": "8089404f",
   "metadata": {
    "ExecuteTime": {
     "end_time": "2023-01-03T05:23:04.444726Z",
     "start_time": "2023-01-03T05:23:04.108367Z"
    }
   },
   "outputs": [
    {
     "name": "stderr",
     "output_type": "stream",
     "text": [
      "/tmp/ipykernel_8230/2598696521.py:2: RuntimeWarning: invalid value encountered in sqrt\n",
      "  y = 1/(1+x) + 1/np.sqrt(1-x**2)\n"
     ]
    },
    {
     "data": {
      "image/png": "[encoded data removed]",
      "text/plain": [
       "<Figure size 1008x648 with 1 Axes>"
      ]
     },
     "metadata": {
      "needs_background": "light"
     },
     "output_type": "display_data"
    }
   ],
   "source": [
    "x = np.linspace(0.01, 10, 100)\n",
    "y = 1/(1+x) + 1/np.sqrt(1-x**2)\n",
    "\n",
    "plt.figure(figsize = (14, 9))\n",
    "plt.plot(x, y)\n",
    "plt.show()"
   ]
  },
  {
   "cell_type": "markdown",
   "id": "7e9d4644",
   "metadata": {},
   "source": [
    " # <font color = 'red'>Bug</font>\n",
    "Something is wrong !!"
   ]
  },
  {
   "cell_type": "markdown",
   "id": "0d0eb69b",
   "metadata": {},
   "source": [
    "# Physics\n",
    "Time taken will be minimum in case of friction when $x \\approx 0.397$ i.e, $\\mu \\approx 0.397 \\tan{\\theta}$"
   ]
  },
  {
   "cell_type": "code",
   "execution_count": null,
   "id": "e9c0f76a",
   "metadata": {},
   "outputs": [],
   "source": []
  }
 ],
 "metadata": {
  "kernelspec": {
   "display_name": "Python 3 (ipykernel)",
   "language": "python",
   "name": "python3"
  },
  "language_info": {
   "codemirror_mode": {
    "name": "ipython",
    "version": 3
   },
   "file_extension": ".py",
   "mimetype": "text/x-python",
   "name": "python",
   "nbconvert_exporter": "python",
   "pygments_lexer": "ipython3",
   "version": "3.10.7"
  }
 },
 "nbformat": 4,
 "nbformat_minor": 5
}
